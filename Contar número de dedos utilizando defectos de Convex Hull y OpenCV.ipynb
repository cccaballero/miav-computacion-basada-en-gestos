{
 "cells": [
  {
   "cell_type": "markdown",
   "id": "portable-lending",
   "metadata": {},
   "source": [
    "_Marisleydis Alvarez Noy; Carlos Cesar Caballero Díaz, Adniel Quintana Muñoz_\n",
    "\n",
    "\n"
   ]
  },
  {
   "cell_type": "markdown",
   "id": "successful-algorithm",
   "metadata": {},
   "source": [
    "Este trabajo describe la implementación de la detección del número de dedos de una mano utilizando defectos de Convex Hull.\n",
    "\n",
    "Cuando se habla de Convex Hull o casco convexo, se refiera a, dado un conjunto S de puntos, el polígono convexo más pequeño que incluye a todos los puntos de S.\n",
    "\n",
    "![convex_hull.jpeg](img/convex_hull.jpeg)\n",
    "\n",
    "El método implementado consiste en obtener el Convex Hull de la mano tal como se muestra en la imagen y luego identificar los defectos de convexidad, a partir de los cuales es posible identificar gestos realizados. Para mayor clarificación, en la siguiente imagen extraída de la documentación de la biblioteca OpenCV, las lineas rojas representan el Convex Hull y las flechas negras muestran los defectos.\n",
    "\n",
    "![contours_convexity_defects.jpeg](img/contours_convexity_defects.jpeg)\n",
    "\n",
    "Si se logran identificar dichos defectos es posible realizar acciones como contar la cantidad de dedos que se muestran o incluso identificar gestos como el pulgar levantado y \"todo está bien\" o \"ok\". A continuación se describe una implementación en el lenguaje Python utilizando la biblioteca OpenCV que permite realizar lo antes descrito."
   ]
  },
  {
   "cell_type": "markdown",
   "id": "excess-vacation",
   "metadata": {},
   "source": [
    "Inicialmente se importan los módulos a utilizar y se comienza la captura de video"
   ]
  },
  {
   "cell_type": "code",
   "execution_count": 3,
   "id": "variable-coating",
   "metadata": {},
   "outputs": [],
   "source": [
    "import cv2\n",
    "import numpy as np\n",
    "import math\n",
    "\n",
    "#Se inicializa la captura de video de Opencv\n",
    "cap = cv2.VideoCapture(0)"
   ]
  },
  {
   "cell_type": "markdown",
   "id": "premium-tribe",
   "metadata": {},
   "source": [
    "La implementación se ha dividido en cuatro funciones, siendo la primera `prepare_image(frame, rog)`, la cual se encarga de, a partir del frame actual y la región de interés definida, realizar su tratamiento para posterior procesamiento, incluyendo la definición del rango de color, extracción basada en dicho color, extrapolación y desenfoque."
   ]
  },
  {
   "cell_type": "code",
   "execution_count": 4,
   "id": "therapeutic-weekend",
   "metadata": {},
   "outputs": [],
   "source": [
    "def prepare_image(frame, roi):\n",
    "    \n",
    "    kernel = np.ones((3,3),np.uint8)\n",
    "    \n",
    "    #Se convierte el frame de video a HSV\n",
    "    cv2.rectangle(frame,(100,100),(300,300),(0,255,0),0)    \n",
    "    hsv = cv2.cvtColor(roi, cv2.COLOR_BGR2HSV)\n",
    "    \n",
    "    #Se define el rango de color de la piel\n",
    "    lower_skin = np.array([0,20,70], dtype=np.uint8)\n",
    "    upper_skin = np.array([20,255,255], dtype=np.uint8)\n",
    "    \n",
    "    #Se extrae la imagen basada en el color de la piel\n",
    "    mask = cv2.inRange(hsv, lower_skin, upper_skin)\n",
    "    \n",
    "    #Se extrapola la mano para rellenar manchas oscuras\n",
    "    mask = cv2.dilate(mask,kernel,iterations = 4)\n",
    "    \n",
    "    #Se desenfoca\n",
    "    mask = cv2.GaussianBlur(mask,(5,5),100)\n",
    "\n",
    "    return mask"
   ]
  },
  {
   "cell_type": "markdown",
   "id": "potential-state",
   "metadata": {},
   "source": [
    "La siguiente función implementada es `get_bigest_contour(mask)`, la cual a partir de la imagen procesada obtiene los contornos utilizando la función `findContours` de OpenCV y devuelve el de mayor área, ya que se espera que dicho contorno sea la mano."
   ]
  },
  {
   "cell_type": "code",
   "execution_count": 5,
   "id": "pharmaceutical-knight",
   "metadata": {},
   "outputs": [],
   "source": [
    "def get_bigest_contour(mask):\n",
    "\n",
    "    #Se encuentran los contornos \n",
    "    contours,hierarchy= cv2.findContours(mask,cv2.RETR_TREE,cv2.CHAIN_APPROX_SIMPLE)\n",
    "    if contours:\n",
    "        #Devuelve el mayor contorno\n",
    "        return max(contours, key = lambda x: cv2.contourArea(x))\n",
    "    \n",
    "    #Devuelve falso si no ecuentra algun contorno \n",
    "    return False"
   ]
  },
  {
   "cell_type": "markdown",
   "id": "alternative-edmonton",
   "metadata": {},
   "source": [
    "Luego se implementa la función `get_defects(cnt)`, que, a partir del contorno de mayor área obtenido, realiza la obtención del contorno mediante Convex Hull y procede a la identificación de los defectos a partir de las áreas y los ángulos de los triángulos formados entre los puntos del Convex Hull y la forma de los defectos. Esta función además de devolver el número de defectos, devuelve el área del contorno y el porcentaje del área no cubierta por la mano, datos a partir de los cuales se pueden identificar algunos gestos."
   ]
  },
  {
   "cell_type": "code",
   "execution_count": 6,
   "id": "marked-activation",
   "metadata": {},
   "outputs": [],
   "source": [
    "def get_defects(cnt):\n",
    "    #Se aproxima la forma de contorno\n",
    "    epsilon = 0.0005*cv2.arcLength(cnt,True)\n",
    "    approx= cv2.approxPolyDP(cnt,epsilon,True)\n",
    "    \n",
    "    #Se obtiene el contorno alrrededor de la mano utilizando Convex Hull\n",
    "    hull = cv2.convexHull(cnt)\n",
    "    \n",
    "    #Se definen las áreas\n",
    "    areahull = cv2.contourArea(hull)\n",
    "    areacnt = cv2.contourArea(cnt)\n",
    "    \n",
    "    #Se encuetra el porcentaje del área no cubierta por la mano\n",
    "    arearatio = ((areahull - areacnt) / areacnt) * 100\n",
    "    \n",
    "    #Se encuentran los defectos en el Convex Hull con respecto a la mano\n",
    "    hull = cv2.convexHull(approx, returnPoints=False)\n",
    "    defects = cv2.convexityDefects(approx, hull)\n",
    "    \n",
    "    #Se define la variable `l` que contendrá el número de defectos\n",
    "    l=0\n",
    "\n",
    "    if defects is not None:\n",
    "    \n",
    "        #Se procede a encontrar el número de defectos en relación a los dedos\n",
    "        for i in range(defects.shape[0]):\n",
    "            s,e,f,d = defects[i,0]\n",
    "            start = tuple(approx[s][0])\n",
    "            end = tuple(approx[e][0])\n",
    "            far = tuple(approx[f][0])\n",
    "            pt = (100,180)\n",
    "            \n",
    "            #Se encuentra la longitud de todos los lados del triángulo \n",
    "            a = math.sqrt((end[0] - start[0])**2 + (end[1] - start[1])**2)\n",
    "            b = math.sqrt((far[0] - start[0])**2 + (far[1] - start[1])**2)\n",
    "            c = math.sqrt((end[0] - far[0])**2 + (end[1] - far[1])**2)\n",
    "            s = (a+b+c)/2\n",
    "            ar = math.sqrt(s*(s-a)*(s-b)*(s-c))\n",
    "            \n",
    "            #Se encuentra la distancia entre el punto y el casco convexo\n",
    "            d=(2*ar)/a\n",
    "            \n",
    "            #Se aplica la regla de coseno\n",
    "            angle = math.acos((b**2 + c**2 - a**2)/(2*b*c)) * 57\n",
    "            \n",
    "            #Se ignoran los ángulos mayores a 90 grados y los puntos muy cercanos al casco convexo, ya que normalmente aparecen debido al ruido\n",
    "            if angle <= 90 and d>30:\n",
    "                l += 1\n",
    "                cv2.circle(roi, far, 3, [255,0,0], -1)\n",
    "            \n",
    "            #Se dibujan lineas alrrededor de la mano\n",
    "            cv2.line(roi,start, end, [0,255,0], 2)\n",
    "            \n",
    "        l+=1\n",
    "    return l, areacnt, arearatio"
   ]
  },
  {
   "cell_type": "markdown",
   "id": "golden-philadelphia",
   "metadata": {},
   "source": [
    "A continuación se implementa la función `print_gestures(l, areacnt, arearatio)`, mediante la cual se identifican los gestos a partir de la cantidad de defectos encontrados, el área del contorno y el porcentaje del área no cubierta por la mano. De esta forma se ha implementado la identificación de la cantidad de dedos de la mano, los gestos \"ok\" y \"pulgar arriba\" y la ausencia de la mano en la región de interés."
   ]
  },
  {
   "cell_type": "code",
   "execution_count": 7,
   "id": "young-synthetic",
   "metadata": {},
   "outputs": [],
   "source": [
    "def print_gestures(l, areacnt, arearatio):\n",
    "    #Se mustran en pantalla los gestos que se encuantran en los rangos \n",
    "    font = cv2.FONT_HERSHEY_SIMPLEX\n",
    "    if l==1:\n",
    "        if areacnt < 2000:\n",
    "            cv2.putText(frame,'Ponga la mano en el cuadro',(0,50), font, 2, (0,0,255), 3, cv2.LINE_AA)\n",
    "        else:\n",
    "            if arearatio < 12:\n",
    "                cv2.putText(frame,'0',(0,50), font, 2, (0,0,255), 3, cv2.LINE_AA)\n",
    "            elif arearatio < 17.5:\n",
    "                cv2.putText(frame,'Pulgar arriba',(0,50), font, 2, (0,0,255), 3, cv2.LINE_AA)\n",
    "            else:\n",
    "                cv2.putText(frame,'1',(0,50), font, 2, (0,0,255), 3, cv2.LINE_AA)\n",
    "    elif l == 2:\n",
    "        cv2.putText(frame,'2',(0,50), font, 2, (0,0,255), 3, cv2.LINE_AA)\n",
    "    elif l == 3:\n",
    "            if arearatio < 27:\n",
    "                cv2.putText(frame,'3',(0,50), font, 2, (0,0,255), 3, cv2.LINE_AA)\n",
    "            else:\n",
    "                cv2.putText(frame,'ok',(0,50), font, 2, (0,0,255), 3, cv2.LINE_AA)\n",
    "    elif l == 4:\n",
    "        cv2.putText(frame,'4',(0,50), font, 2, (0,0,255), 3, cv2.LINE_AA)\n",
    "    elif l == 5:\n",
    "        cv2.putText(frame,'5',(0,50), font, 2, (0,0,255), 3, cv2.LINE_AA)"
   ]
  },
  {
   "cell_type": "markdown",
   "id": "dramatic-slide",
   "metadata": {},
   "source": [
    "Luego de implementadas las funciones se inicia el ciclo infinito mediante el cual se obtendrán y procesarán los frames para mostrar al usuario la información al respecto de la detección de los gestos de su mano."
   ]
  },
  {
   "cell_type": "code",
   "execution_count": 8,
   "id": "wrapped-integral",
   "metadata": {},
   "outputs": [],
   "source": [
    "while True:\n",
    "\n",
    "    ret, frame = cap.read()\n",
    "    frame=cv2.flip(frame,1)\n",
    "\n",
    "    #Se define la región de interés\n",
    "    roi=frame[100:300, 100:300]\n",
    "\n",
    "    #se obtiene la mascara a partir de la obtención y preparación de la imagen\n",
    "    mask = prepare_image(frame, roi)\n",
    "\n",
    "    #Se obtiene el contorno mas grande\n",
    "    cnt = get_bigest_contour(mask)\n",
    "\n",
    "    if cnt is not False:\n",
    "    \n",
    "        #Se obtienen los defectos ademas del area del contorno y el porcentaje del área no cubierta por la mano\n",
    "        l, areacnt, arearatio = get_defects(cnt)\n",
    "        \n",
    "        #Se identifican los gestos y se muestra la información visual\n",
    "        print_gestures(l, areacnt, arearatio)\n",
    "        \n",
    "    #Se muestran las ventanas\n",
    "    cv2.imshow('mask',mask)\n",
    "    cv2.imshow('frame',frame)\n",
    "\n",
    "    #Si se presiona la tecla \"Esc\" se termina el programa\n",
    "    k = cv2.waitKey(5) & 0xFF\n",
    "    if k == 27:\n",
    "        break\n",
    "    \n",
    "cv2.destroyAllWindows()\n",
    "cap.release()"
   ]
  },
  {
   "cell_type": "markdown",
   "id": "circular-brave",
   "metadata": {},
   "source": [
    "## Bibliografía\n",
    "\n",
    "El Fiorenza, C. (2019). Hand Gesture Recognition using Convexity Defect. International Journal of Innovative Technology and Exploring Engineering, 9(1), 1161-1165. https://doi.org/10.35940/ijitee.A4489.119119\n",
    "\n",
    "Sojasingarayar, A. (2020). Abonia1/Hand-detection-and-finger-counter [Python]. https://github.com/Abonia1/Hand-detection-and-finger-counter (Original work published 2019)\n",
    "\n",
    "CONTANDO DEDOS (Usando defectos de convexidad) | Python—OpenCV » omes-va.com. (2020, abril 28). OMES. https://omes-va.com/contando-dedos-defectos-de-convexidad-python-opencv/\n",
    "\n",
    "Advanced contour properties – PyImageSearch. (s. f.). Recuperado 29 de enero de 2021, de https://customers.pyimagesearch.com/lesson-sample-advanced-contour-properties/\n",
    "\n",
    "Convex hull. Introducción y algoritmos elementales. (s. f.). http://www.dccia.ua.es/dccia/inf/asignaturas/RG/pdf/intro-convex-hull.pdf\n",
    "\n",
    "GabySol/OmesTutorials2020. (s. f.). GitHub. Recuperado 29 de enero de 2021, de https://github.com/GabySol/OmesTutorials2020\n"
   ]
  }
 ],
 "metadata": {
  "kernelspec": {
   "display_name": "Python 3",
   "language": "python",
   "name": "python3"
  },
  "language_info": {
   "codemirror_mode": {
    "name": "ipython",
    "version": 3
   },
   "file_extension": ".py",
   "mimetype": "text/x-python",
   "name": "python",
   "nbconvert_exporter": "python",
   "pygments_lexer": "ipython3",
   "version": "3.7.6"
  }
 },
 "nbformat": 4,
 "nbformat_minor": 5
}
